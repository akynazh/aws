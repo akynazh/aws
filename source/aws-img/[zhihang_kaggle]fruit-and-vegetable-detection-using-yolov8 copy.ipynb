{
 "cells": [
  {
   "cell_type": "code",
   "execution_count": null,
   "metadata": {
    "execution": {
     "iopub.execute_input": "2023-03-12T07:58:37.595673Z",
     "iopub.status.busy": "2023-03-12T07:58:37.594972Z",
     "iopub.status.idle": "2023-03-12T08:01:13.298435Z",
     "shell.execute_reply": "2023-03-12T08:01:13.297171Z",
     "shell.execute_reply.started": "2023-03-12T07:58:37.595631Z"
    },
    "trusted": true
   },
   "outputs": [],
   "source": [
    "!pip3 install --upgrade torch torchvision torchaudio --extra-index-url https://download.pytorch.org/whl/cu117\n",
    "!pip3 install roboflow\n",
    "!pip3 install --upgrade ultralytics"
   ]
  },
  {
   "cell_type": "code",
   "execution_count": null,
   "metadata": {
    "execution": {
     "iopub.execute_input": "2023-03-12T08:02:13.012187Z",
     "iopub.status.busy": "2023-03-12T08:02:13.011755Z",
     "iopub.status.idle": "2023-03-12T08:02:14.514931Z",
     "shell.execute_reply": "2023-03-12T08:02:14.513794Z",
     "shell.execute_reply.started": "2023-03-12T08:02:13.012148Z"
    },
    "trusted": true
   },
   "outputs": [],
   "source": [
    "import torch\n",
    "torch.cuda.is_available()"
   ]
  },
  {
   "cell_type": "code",
   "execution_count": null,
   "metadata": {
    "execution": {
     "iopub.execute_input": "2023-03-12T08:02:16.672169Z",
     "iopub.status.busy": "2023-03-12T08:02:16.671238Z",
     "iopub.status.idle": "2023-03-12T08:02:36.098808Z",
     "shell.execute_reply": "2023-03-12T08:02:36.097324Z",
     "shell.execute_reply.started": "2023-03-12T08:02:16.672129Z"
    },
    "trusted": true
   },
   "outputs": [],
   "source": [
    "from kaggle_secrets import UserSecretsClient\n",
    "user_secrets = UserSecretsClient()\n",
    "ROBOFLOW_API_KEY = user_secrets.get_secret(\"ROBOFLOW_API\")\n",
    "\n",
    "from roboflow import Roboflow\n",
    "rf = Roboflow(api_key=ROBOFLOW_API_KEY)\n",
    "project = rf.workspace(\"zhihang\").project(\"fruits-and-vegetables-knetf-9dd0s\")\n",
    "dataset = project.version(1).download(\"yolov8\")"
   ]
  },
  {
   "cell_type": "code",
   "execution_count": null,
   "metadata": {
    "execution": {
     "iopub.execute_input": "2023-03-12T08:03:29.078069Z",
     "iopub.status.busy": "2023-03-12T08:03:29.077057Z",
     "iopub.status.idle": "2023-03-12T08:03:30.048188Z",
     "shell.execute_reply": "2023-03-12T08:03:30.046593Z",
     "shell.execute_reply.started": "2023-03-12T08:03:29.078017Z"
    },
    "trusted": true
   },
   "outputs": [],
   "source": [
    "!cat /kaggle/working/Fruits-and-Vegetables-1/data.yaml"
   ]
  },
  {
   "cell_type": "code",
   "execution_count": null,
   "metadata": {
    "execution": {
     "iopub.execute_input": "2023-03-12T08:03:41.105083Z",
     "iopub.status.busy": "2023-03-12T08:03:41.103800Z",
     "iopub.status.idle": "2023-03-12T10:04:15.319188Z",
     "shell.execute_reply": "2023-03-12T10:04:15.318003Z",
     "shell.execute_reply.started": "2023-03-12T08:03:41.104981Z"
    },
    "trusted": true
   },
   "outputs": [],
   "source": [
    "!yolo task=detect mode=train epochs=50 data=/kaggle/working/Fruits-and-Vegetables-1/data.yaml model=yolov8m.pt patience=30"
   ]
  },
  {
   "cell_type": "code",
   "execution_count": null,
   "metadata": {},
   "outputs": [],
   "source": [
    "#!yolo task=detect mode=train resume model=/kaggle/working/runs/detect/train/weights/best.pt data=/kaggle/working/Fruits-and-Vegetables-1/data.yaml epochs=100"
   ]
  },
  {
   "cell_type": "code",
   "execution_count": null,
   "metadata": {
    "execution": {
     "iopub.execute_input": "2023-03-12T10:04:31.840248Z",
     "iopub.status.busy": "2023-03-12T10:04:31.839120Z",
     "iopub.status.idle": "2023-03-12T10:04:32.804217Z",
     "shell.execute_reply": "2023-03-12T10:04:32.803047Z",
     "shell.execute_reply.started": "2023-03-12T10:04:31.840179Z"
    },
    "trusted": true
   },
   "outputs": [],
   "source": [
    "!ls /kaggle/working/runs/detect/train"
   ]
  },
  {
   "cell_type": "code",
   "execution_count": null,
   "metadata": {
    "execution": {
     "iopub.execute_input": "2023-03-12T10:21:18.384569Z",
     "iopub.status.busy": "2023-03-12T10:21:18.383819Z",
     "iopub.status.idle": "2023-03-12T10:21:18.404074Z",
     "shell.execute_reply": "2023-03-12T10:21:18.403036Z",
     "shell.execute_reply.started": "2023-03-12T10:21:18.384529Z"
    },
    "trusted": true
   },
   "outputs": [],
   "source": [
    "from IPython.display import display, Image\n",
    "\n",
    "display(Image(filename='/kaggle/working/runs/detect/train/val_batch0_pred.jpg'))"
   ]
  },
  {
   "cell_type": "code",
   "execution_count": null,
   "metadata": {
    "execution": {
     "iopub.execute_input": "2023-03-12T10:21:23.604812Z",
     "iopub.status.busy": "2023-03-12T10:21:23.603841Z",
     "iopub.status.idle": "2023-03-12T10:21:23.624571Z",
     "shell.execute_reply": "2023-03-12T10:21:23.623686Z",
     "shell.execute_reply.started": "2023-03-12T10:21:23.604771Z"
    },
    "trusted": true
   },
   "outputs": [],
   "source": [
    "display(Image(filename='/kaggle/working/runs/detect/train/val_batch0_labels.jpg'))"
   ]
  },
  {
   "cell_type": "code",
   "execution_count": null,
   "metadata": {
    "execution": {
     "iopub.execute_input": "2023-03-12T10:21:00.352936Z",
     "iopub.status.busy": "2023-03-12T10:21:00.352562Z",
     "iopub.status.idle": "2023-03-12T10:21:00.373741Z",
     "shell.execute_reply": "2023-03-12T10:21:00.372929Z",
     "shell.execute_reply.started": "2023-03-12T10:21:00.352900Z"
    },
    "trusted": true
   },
   "outputs": [],
   "source": [
    "from IPython.display import display, Image\n",
    "\n",
    "display(Image(filename='/kaggle/working/runs/detect/train/val_batch1_pred.jpg'))\n"
   ]
  },
  {
   "cell_type": "code",
   "execution_count": null,
   "metadata": {
    "execution": {
     "iopub.execute_input": "2023-03-12T10:21:07.141161Z",
     "iopub.status.busy": "2023-03-12T10:21:07.140742Z",
     "iopub.status.idle": "2023-03-12T10:21:07.162111Z",
     "shell.execute_reply": "2023-03-12T10:21:07.161039Z",
     "shell.execute_reply.started": "2023-03-12T10:21:07.141123Z"
    },
    "trusted": true
   },
   "outputs": [],
   "source": [
    "display(Image(filename='/kaggle/working/runs/detect/train/val_batch1_labels.jpg'))"
   ]
  },
  {
   "cell_type": "code",
   "execution_count": null,
   "metadata": {
    "execution": {
     "iopub.execute_input": "2023-03-12T10:22:04.347978Z",
     "iopub.status.busy": "2023-03-12T10:22:04.347053Z",
     "iopub.status.idle": "2023-03-12T10:22:04.368315Z",
     "shell.execute_reply": "2023-03-12T10:22:04.367288Z",
     "shell.execute_reply.started": "2023-03-12T10:22:04.347941Z"
    },
    "trusted": true
   },
   "outputs": [],
   "source": [
    "from IPython.display import display, Image\n",
    "\n",
    "display(Image(filename='/kaggle/working/runs/detect/train/val_batch2_pred.jpg'))"
   ]
  },
  {
   "cell_type": "code",
   "execution_count": null,
   "metadata": {
    "execution": {
     "iopub.execute_input": "2023-03-12T10:22:18.653939Z",
     "iopub.status.busy": "2023-03-12T10:22:18.653019Z",
     "iopub.status.idle": "2023-03-12T10:22:18.673075Z",
     "shell.execute_reply": "2023-03-12T10:22:18.672000Z",
     "shell.execute_reply.started": "2023-03-12T10:22:18.653888Z"
    },
    "trusted": true
   },
   "outputs": [],
   "source": [
    "display(Image(filename='/kaggle/working/runs/detect/train/val_batch2_labels.jpg'))"
   ]
  },
  {
   "cell_type": "code",
   "execution_count": null,
   "metadata": {
    "execution": {
     "iopub.execute_input": "2023-03-12T10:10:14.666215Z",
     "iopub.status.busy": "2023-03-12T10:10:14.665616Z",
     "iopub.status.idle": "2023-03-12T10:10:15.651137Z",
     "shell.execute_reply": "2023-03-12T10:10:15.650192Z",
     "shell.execute_reply.started": "2023-03-12T10:10:14.666174Z"
    },
    "trusted": true
   },
   "outputs": [],
   "source": [
    "from ultralytics import YOLO\n",
    "from PIL import Image\n",
    "\n",
    "import requests\n",
    "\n",
    "url = 'https://www.hellozdrowie.pl/wp-content/uploads/2021/07/pomidory.jpg'\n",
    "image = Image.open(requests.get(url, stream=True).raw)\n",
    "\n",
    "model = YOLO(\"/kaggle/working/runs/detect/train/weights/best.pt\")\n",
    "results = model.predict(source=image, conf=0.2, save=True)  # save plotted images"
   ]
  },
  {
   "cell_type": "code",
   "execution_count": null,
   "metadata": {
    "execution": {
     "iopub.execute_input": "2023-03-12T10:08:37.152830Z",
     "iopub.status.busy": "2023-03-12T10:08:37.152406Z",
     "iopub.status.idle": "2023-03-12T10:08:38.255231Z",
     "shell.execute_reply": "2023-03-12T10:08:38.253885Z",
     "shell.execute_reply.started": "2023-03-12T10:08:37.152792Z"
    },
    "trusted": true
   },
   "outputs": [],
   "source": [
    "!ls /kaggle/working/runs/detect/predict"
   ]
  },
  {
   "cell_type": "code",
   "execution_count": null,
   "metadata": {
    "execution": {
     "iopub.execute_input": "2023-03-12T10:10:18.916157Z",
     "iopub.status.busy": "2023-03-12T10:10:18.915783Z",
     "iopub.status.idle": "2023-03-12T10:10:18.934694Z",
     "shell.execute_reply": "2023-03-12T10:10:18.933651Z",
     "shell.execute_reply.started": "2023-03-12T10:10:18.916123Z"
    },
    "trusted": true
   },
   "outputs": [],
   "source": [
    "from IPython.display import display, Image\n",
    "display(Image(filename='/kaggle/working/runs/detect/predict4/image0.jpg'))"
   ]
  },
  {
   "cell_type": "code",
   "execution_count": null,
   "metadata": {
    "execution": {
     "iopub.execute_input": "2023-03-12T10:20:28.493553Z",
     "iopub.status.busy": "2023-03-12T10:20:28.492927Z",
     "iopub.status.idle": "2023-03-12T10:20:28.537831Z",
     "shell.execute_reply": "2023-03-12T10:20:28.536899Z",
     "shell.execute_reply.started": "2023-03-12T10:20:28.493516Z"
    },
    "trusted": true
   },
   "outputs": [],
   "source": [
    "from IPython.display import display, Image\n",
    "\n",
    "display(Image(filename='/kaggle/working/runs/detect/train/results.png'))\n",
    "display(Image(filename='/kaggle/working/runs/detect/train/confusion_matrix.png'))\n",
    "display(Image(filename='/kaggle/working/runs/detect/train/labels.jpg'))\n",
    "display(Image(filename='/kaggle/working/runs/detect/train/labels_correlogram.jpg'))"
   ]
  }
 ],
 "metadata": {
  "kernelspec": {
   "display_name": ".venv",
   "language": "python",
   "name": "python3"
  },
  "language_info": {
   "codemirror_mode": {
    "name": "ipython",
    "version": 3
   },
   "file_extension": ".py",
   "mimetype": "text/x-python",
   "name": "python",
   "nbconvert_exporter": "python",
   "pygments_lexer": "ipython3",
   "version": "3.11.6"
  }
 },
 "nbformat": 4,
 "nbformat_minor": 4
}
