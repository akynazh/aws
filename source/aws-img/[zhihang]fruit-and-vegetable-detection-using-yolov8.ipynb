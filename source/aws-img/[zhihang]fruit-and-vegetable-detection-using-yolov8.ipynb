{
 "cells": [
  {
   "cell_type": "code",
   "execution_count": null,
   "metadata": {
    "execution": {
     "iopub.execute_input": "2023-03-12T07:58:37.595673Z",
     "iopub.status.busy": "2023-03-12T07:58:37.594972Z",
     "iopub.status.idle": "2023-03-12T08:01:13.298435Z",
     "shell.execute_reply": "2023-03-12T08:01:13.297171Z",
     "shell.execute_reply.started": "2023-03-12T07:58:37.595631Z"
    },
    "trusted": true
   },
   "outputs": [],
   "source": [
    "!pip3 install --upgrade torch torchvision torchaudio --extra-index-url https://download.pytorch.org/whl/cu117\n",
    "!pip install roboflow"
   ]
  },
  {
   "cell_type": "code",
   "execution_count": 1,
   "metadata": {
    "execution": {
     "iopub.execute_input": "2023-03-12T08:02:13.012187Z",
     "iopub.status.busy": "2023-03-12T08:02:13.011755Z",
     "iopub.status.idle": "2023-03-12T08:02:14.514931Z",
     "shell.execute_reply": "2023-03-12T08:02:14.513794Z",
     "shell.execute_reply.started": "2023-03-12T08:02:13.012148Z"
    },
    "trusted": true
   },
   "outputs": [
    {
     "data": {
      "text/plain": [
       "False"
      ]
     },
     "execution_count": 1,
     "metadata": {},
     "output_type": "execute_result"
    }
   ],
   "source": [
    "import torch\n",
    "torch.cuda.is_available()"
   ]
  },
  {
   "cell_type": "code",
   "execution_count": null,
   "metadata": {
    "execution": {
     "iopub.execute_input": "2023-03-12T08:02:16.672169Z",
     "iopub.status.busy": "2023-03-12T08:02:16.671238Z",
     "iopub.status.idle": "2023-03-12T08:02:36.098808Z",
     "shell.execute_reply": "2023-03-12T08:02:36.097324Z",
     "shell.execute_reply.started": "2023-03-12T08:02:16.672129Z"
    },
    "trusted": true
   },
   "outputs": [],
   "source": [
    "from kaggle_secrets import UserSecretsClient\n",
    "user_secrets = UserSecretsClient()\n",
    "ROBOFLOW_API_KEY = user_secrets.get_secret(\"ROBOFLOW_API\")\n",
    "\n",
    "from roboflow import Roboflow\n",
    "rf = Roboflow(api_key=ROBOFLOW_API_KEY)\n",
    "project = rf.workspace(\"zzigmug\").project(\"fruits-and-vegetables-knetf\")\n",
    "dataset = project.version(3).download(\"yolov8\")\n",
    "\n",
    "#project = rf.workspace(\"cse299\").project(\"fruit-and-vegetable\")\n",
    "#dataset = project.version(1).download(\"yolov8\")"
   ]
  },
  {
   "cell_type": "code",
   "execution_count": null,
   "metadata": {
    "execution": {
     "iopub.execute_input": "2023-03-12T08:03:15.709833Z",
     "iopub.status.busy": "2023-03-12T08:03:15.709439Z",
     "iopub.status.idle": "2023-03-12T08:03:26.455706Z",
     "shell.execute_reply": "2023-03-12T08:03:26.454491Z",
     "shell.execute_reply.started": "2023-03-12T08:03:15.709795Z"
    },
    "trusted": true
   },
   "outputs": [],
   "source": [
    "!pip install --upgrade ultralytics"
   ]
  },
  {
   "cell_type": "code",
   "execution_count": 2,
   "metadata": {
    "execution": {
     "iopub.execute_input": "2023-03-12T08:03:29.078069Z",
     "iopub.status.busy": "2023-03-12T08:03:29.077057Z",
     "iopub.status.idle": "2023-03-12T08:03:30.048188Z",
     "shell.execute_reply": "2023-03-12T08:03:30.046593Z",
     "shell.execute_reply.started": "2023-03-12T08:03:29.078017Z"
    },
    "trusted": true
   },
   "outputs": [
    {
     "name": "stdout",
     "output_type": "stream",
     "text": [
      "names:\n",
      "- apple\n",
      "- banana\n",
      "- bell_pepper\n",
      "- cabbage\n",
      "- carrot\n",
      "- chilli_pepper\n",
      "- corn\n",
      "- cucumber\n",
      "- eggplant\n",
      "- garlic\n",
      "- grape\n",
      "- kiwi\n",
      "- lemon\n",
      "- lettuce\n",
      "- mango\n",
      "- onion\n",
      "- orange\n",
      "- pineapple\n",
      "- potato\n",
      "- sweetpotato\n",
      "- tomato\n",
      "- watermelon\n",
      "nc: 22\n",
      "roboflow:\n",
      "  license: Public Domain\n",
      "  project: fruits-and-vegetables-knetf-9dd0s\n",
      "  url: https://universe.roboflow.com/zhihang/fruits-and-vegetables-knetf-9dd0s/dataset/1\n",
      "  version: 1\n",
      "  workspace: zhihang\n",
      "test: ../test/images\n",
      "train: ../train/images\n",
      "val: ../valid/images\n"
     ]
    }
   ],
   "source": [
    "!cat ./Fruits-and-Vegetables-1/data.yaml"
   ]
  },
  {
   "cell_type": "code",
   "execution_count": 4,
   "metadata": {},
   "outputs": [
    {
     "name": "stdout",
     "output_type": "stream",
     "text": [
      "/Users/zh/Codes/aws/source/aws-img\n"
     ]
    }
   ],
   "source": [
    "!pwd"
   ]
  },
  {
   "cell_type": "code",
   "execution_count": null,
   "metadata": {
    "execution": {
     "iopub.execute_input": "2023-03-12T08:03:41.105083Z",
     "iopub.status.busy": "2023-03-12T08:03:41.103800Z",
     "iopub.status.idle": "2023-03-12T10:04:15.319188Z",
     "shell.execute_reply": "2023-03-12T10:04:15.318003Z",
     "shell.execute_reply.started": "2023-03-12T08:03:41.104981Z"
    },
    "trusted": true
   },
   "outputs": [
    {
     "name": "stdout",
     "output_type": "stream",
     "text": [
      "Ultralytics 8.3.99 🚀 Python-3.11.6 torch-2.6.0 CPU (Apple M1)\n",
      "\u001b[34m\u001b[1mengine/trainer: \u001b[0mtask=detect, mode=train, model=yolov8m.pt, data=/Users/zh/Codes/aws/source/aws-img/Fruits-and-Vegetables-1/data.yaml, epochs=50, time=None, patience=30, batch=16, imgsz=640, save=True, save_period=-1, cache=False, device=None, workers=8, project=./run, name=train, exist_ok=False, pretrained=True, optimizer=auto, verbose=True, seed=0, deterministic=True, single_cls=False, rect=False, cos_lr=False, close_mosaic=10, resume=False, amp=True, fraction=1.0, profile=False, freeze=None, multi_scale=False, overlap_mask=True, mask_ratio=4, dropout=0.0, val=True, split=val, save_json=False, save_hybrid=False, conf=None, iou=0.7, max_det=300, half=False, dnn=False, plots=True, source=None, vid_stride=1, stream_buffer=False, visualize=False, augment=False, agnostic_nms=False, classes=None, retina_masks=False, embed=None, show=False, save_frames=False, save_txt=False, save_conf=False, save_crop=False, show_labels=True, show_conf=True, show_boxes=True, line_width=None, format=torchscript, keras=False, optimize=False, int8=False, dynamic=False, simplify=True, opset=None, workspace=None, nms=False, lr0=0.01, lrf=0.01, momentum=0.937, weight_decay=0.0005, warmup_epochs=3.0, warmup_momentum=0.8, warmup_bias_lr=0.1, box=7.5, cls=0.5, dfl=1.5, pose=12.0, kobj=1.0, nbs=64, hsv_h=0.015, hsv_s=0.7, hsv_v=0.4, degrees=0.0, translate=0.1, scale=0.5, shear=0.0, perspective=0.0, flipud=0.0, fliplr=0.5, bgr=0.0, mosaic=1.0, mixup=0.0, copy_paste=0.0, copy_paste_mode=flip, auto_augment=randaugment, erasing=0.4, crop_fraction=1.0, cfg=None, tracker=botsort.yaml, save_dir=run/train\n",
      "Overriding model.yaml nc=80 with nc=22\n",
      "\n",
      "                   from  n    params  module                                       arguments                     \n",
      "  0                  -1  1      1392  ultralytics.nn.modules.conv.Conv             [3, 48, 3, 2]                 \n",
      "  1                  -1  1     41664  ultralytics.nn.modules.conv.Conv             [48, 96, 3, 2]                \n",
      "  2                  -1  2    111360  ultralytics.nn.modules.block.C2f             [96, 96, 2, True]             \n",
      "  3                  -1  1    166272  ultralytics.nn.modules.conv.Conv             [96, 192, 3, 2]               \n",
      "  4                  -1  4    813312  ultralytics.nn.modules.block.C2f             [192, 192, 4, True]           \n",
      "  5                  -1  1    664320  ultralytics.nn.modules.conv.Conv             [192, 384, 3, 2]              \n",
      "  6                  -1  4   3248640  ultralytics.nn.modules.block.C2f             [384, 384, 4, True]           \n",
      "  7                  -1  1   1991808  ultralytics.nn.modules.conv.Conv             [384, 576, 3, 2]              \n",
      "  8                  -1  2   3985920  ultralytics.nn.modules.block.C2f             [576, 576, 2, True]           \n",
      "  9                  -1  1    831168  ultralytics.nn.modules.block.SPPF            [576, 576, 5]                 \n",
      " 10                  -1  1         0  torch.nn.modules.upsampling.Upsample         [None, 2, 'nearest']          \n",
      " 11             [-1, 6]  1         0  ultralytics.nn.modules.conv.Concat           [1]                           \n",
      " 12                  -1  2   1993728  ultralytics.nn.modules.block.C2f             [960, 384, 2]                 \n",
      " 13                  -1  1         0  torch.nn.modules.upsampling.Upsample         [None, 2, 'nearest']          \n",
      " 14             [-1, 4]  1         0  ultralytics.nn.modules.conv.Concat           [1]                           \n",
      " 15                  -1  2    517632  ultralytics.nn.modules.block.C2f             [576, 192, 2]                 \n",
      " 16                  -1  1    332160  ultralytics.nn.modules.conv.Conv             [192, 192, 3, 2]              \n",
      " 17            [-1, 12]  1         0  ultralytics.nn.modules.conv.Concat           [1]                           \n",
      " 18                  -1  2   1846272  ultralytics.nn.modules.block.C2f             [576, 384, 2]                 \n",
      " 19                  -1  1   1327872  ultralytics.nn.modules.conv.Conv             [384, 384, 3, 2]              \n",
      " 20             [-1, 9]  1         0  ultralytics.nn.modules.conv.Concat           [1]                           \n",
      " 21                  -1  2   4207104  ultralytics.nn.modules.block.C2f             [960, 576, 2]                 \n",
      " 22        [15, 18, 21]  1   3788434  ultralytics.nn.modules.head.Detect           [22, [192, 384, 576]]         \n",
      "Model summary: 169 layers, 25,869,058 parameters, 25,869,042 gradients, 79.1 GFLOPs\n",
      "\n",
      "Transferred 469/475 items from pretrained weights\n",
      "Freezing layer 'model.22.dfl.conv.weight'\n",
      "\u001b[34m\u001b[1mtrain: \u001b[0mScanning /Users/zh/Codes/aws/source/aws-img/Fruits-and-Vegetables-1/train\u001b[0m\n",
      "\u001b[34m\u001b[1mval: \u001b[0mScanning /Users/zh/Codes/aws/source/aws-img/Fruits-and-Vegetables-1/valid/l\u001b[0m\n",
      "Plotting labels to run/train/labels.jpg... \n",
      "\u001b[34m\u001b[1moptimizer:\u001b[0m 'optimizer=auto' found, ignoring 'lr0=0.01' and 'momentum=0.937' and determining best 'optimizer', 'lr0' and 'momentum' automatically... \n",
      "\u001b[34m\u001b[1moptimizer:\u001b[0m AdamW(lr=0.000385, momentum=0.9) with parameter groups 77 weight(decay=0.0), 84 weight(decay=0.0005), 83 bias(decay=0.0)\n",
      "Image sizes 640 train, 640 val\n",
      "Using 0 dataloader workers\n",
      "Logging results to \u001b[1mrun/train\u001b[0m\n",
      "Starting training for 50 epochs...\n",
      "\n",
      "      Epoch    GPU_mem   box_loss   cls_loss   dfl_loss  Instances       Size\n",
      "       1/50         0G      1.304      4.228      1.647         88        640:  "
     ]
    }
   ],
   "source": [
    "!yolo task=detect mode=train epochs=50 data=/Users/zh/Codes/aws/source/aws-img/Fruits-and-Vegetables-1/data.yaml model=yolov8m.pt patience=30 project=./run"
   ]
  },
  {
   "cell_type": "code",
   "execution_count": null,
   "metadata": {},
   "outputs": [],
   "source": [
    "#!yolo task=detect mode=train resume model=./runs/detect/train/weights/best.pt data=./Fruits-and-Vegetables-1/data.yaml epochs=100"
   ]
  },
  {
   "cell_type": "code",
   "execution_count": null,
   "metadata": {
    "execution": {
     "iopub.execute_input": "2023-03-12T10:04:31.840248Z",
     "iopub.status.busy": "2023-03-12T10:04:31.839120Z",
     "iopub.status.idle": "2023-03-12T10:04:32.804217Z",
     "shell.execute_reply": "2023-03-12T10:04:32.803047Z",
     "shell.execute_reply.started": "2023-03-12T10:04:31.840179Z"
    },
    "trusted": true
   },
   "outputs": [],
   "source": [
    "!ls ./runs/detect/train"
   ]
  },
  {
   "cell_type": "code",
   "execution_count": null,
   "metadata": {
    "execution": {
     "iopub.execute_input": "2023-03-12T10:21:18.384569Z",
     "iopub.status.busy": "2023-03-12T10:21:18.383819Z",
     "iopub.status.idle": "2023-03-12T10:21:18.404074Z",
     "shell.execute_reply": "2023-03-12T10:21:18.403036Z",
     "shell.execute_reply.started": "2023-03-12T10:21:18.384529Z"
    },
    "trusted": true
   },
   "outputs": [],
   "source": [
    "from IPython.display import display, Image\n",
    "\n",
    "display(Image(filename='./runs/detect/train/val_batch0_pred.jpg'))"
   ]
  },
  {
   "cell_type": "code",
   "execution_count": null,
   "metadata": {
    "execution": {
     "iopub.execute_input": "2023-03-12T10:21:23.604812Z",
     "iopub.status.busy": "2023-03-12T10:21:23.603841Z",
     "iopub.status.idle": "2023-03-12T10:21:23.624571Z",
     "shell.execute_reply": "2023-03-12T10:21:23.623686Z",
     "shell.execute_reply.started": "2023-03-12T10:21:23.604771Z"
    },
    "trusted": true
   },
   "outputs": [],
   "source": [
    "display(Image(filename='./runs/detect/train/val_batch0_labels.jpg'))"
   ]
  },
  {
   "cell_type": "code",
   "execution_count": null,
   "metadata": {
    "execution": {
     "iopub.execute_input": "2023-03-12T10:21:00.352936Z",
     "iopub.status.busy": "2023-03-12T10:21:00.352562Z",
     "iopub.status.idle": "2023-03-12T10:21:00.373741Z",
     "shell.execute_reply": "2023-03-12T10:21:00.372929Z",
     "shell.execute_reply.started": "2023-03-12T10:21:00.352900Z"
    },
    "trusted": true
   },
   "outputs": [],
   "source": [
    "from IPython.display import display, Image\n",
    "\n",
    "display(Image(filename='./runs/detect/train/val_batch1_pred.jpg'))\n"
   ]
  },
  {
   "cell_type": "code",
   "execution_count": null,
   "metadata": {
    "execution": {
     "iopub.execute_input": "2023-03-12T10:21:07.141161Z",
     "iopub.status.busy": "2023-03-12T10:21:07.140742Z",
     "iopub.status.idle": "2023-03-12T10:21:07.162111Z",
     "shell.execute_reply": "2023-03-12T10:21:07.161039Z",
     "shell.execute_reply.started": "2023-03-12T10:21:07.141123Z"
    },
    "trusted": true
   },
   "outputs": [],
   "source": [
    "display(Image(filename='./runs/detect/train/val_batch1_labels.jpg'))"
   ]
  },
  {
   "cell_type": "code",
   "execution_count": null,
   "metadata": {
    "execution": {
     "iopub.execute_input": "2023-03-12T10:22:04.347978Z",
     "iopub.status.busy": "2023-03-12T10:22:04.347053Z",
     "iopub.status.idle": "2023-03-12T10:22:04.368315Z",
     "shell.execute_reply": "2023-03-12T10:22:04.367288Z",
     "shell.execute_reply.started": "2023-03-12T10:22:04.347941Z"
    },
    "trusted": true
   },
   "outputs": [],
   "source": [
    "from IPython.display import display, Image\n",
    "\n",
    "display(Image(filename='./runs/detect/train/val_batch2_pred.jpg'))"
   ]
  },
  {
   "cell_type": "code",
   "execution_count": null,
   "metadata": {
    "execution": {
     "iopub.execute_input": "2023-03-12T10:22:18.653939Z",
     "iopub.status.busy": "2023-03-12T10:22:18.653019Z",
     "iopub.status.idle": "2023-03-12T10:22:18.673075Z",
     "shell.execute_reply": "2023-03-12T10:22:18.672000Z",
     "shell.execute_reply.started": "2023-03-12T10:22:18.653888Z"
    },
    "trusted": true
   },
   "outputs": [],
   "source": [
    "display(Image(filename='./runs/detect/train/val_batch2_labels.jpg'))"
   ]
  },
  {
   "cell_type": "code",
   "execution_count": null,
   "metadata": {
    "execution": {
     "iopub.execute_input": "2023-03-12T10:10:14.666215Z",
     "iopub.status.busy": "2023-03-12T10:10:14.665616Z",
     "iopub.status.idle": "2023-03-12T10:10:15.651137Z",
     "shell.execute_reply": "2023-03-12T10:10:15.650192Z",
     "shell.execute_reply.started": "2023-03-12T10:10:14.666174Z"
    },
    "trusted": true
   },
   "outputs": [],
   "source": [
    "from ultralytics import YOLO\n",
    "from PIL import Image\n",
    "\n",
    "import requests\n",
    "\n",
    "url = 'https://www.hellozdrowie.pl/wp-content/uploads/2021/07/pomidory.jpg'\n",
    "image = Image.open(requests.get(url, stream=True).raw)\n",
    "\n",
    "model = YOLO(\"./runs/detect/train/weights/best.pt\")\n",
    "results = model.predict(source=image, conf=0.2, save=True)  # save plotted images"
   ]
  },
  {
   "cell_type": "code",
   "execution_count": null,
   "metadata": {
    "execution": {
     "iopub.execute_input": "2023-03-12T10:08:37.152830Z",
     "iopub.status.busy": "2023-03-12T10:08:37.152406Z",
     "iopub.status.idle": "2023-03-12T10:08:38.255231Z",
     "shell.execute_reply": "2023-03-12T10:08:38.253885Z",
     "shell.execute_reply.started": "2023-03-12T10:08:37.152792Z"
    },
    "trusted": true
   },
   "outputs": [],
   "source": [
    "!ls ./runs/detect/predict"
   ]
  },
  {
   "cell_type": "code",
   "execution_count": null,
   "metadata": {
    "execution": {
     "iopub.execute_input": "2023-03-12T10:10:18.916157Z",
     "iopub.status.busy": "2023-03-12T10:10:18.915783Z",
     "iopub.status.idle": "2023-03-12T10:10:18.934694Z",
     "shell.execute_reply": "2023-03-12T10:10:18.933651Z",
     "shell.execute_reply.started": "2023-03-12T10:10:18.916123Z"
    },
    "trusted": true
   },
   "outputs": [],
   "source": [
    "from IPython.display import display, Image\n",
    "display(Image(filename='./runs/detect/predict4/image0.jpg'))"
   ]
  },
  {
   "cell_type": "code",
   "execution_count": null,
   "metadata": {
    "execution": {
     "iopub.execute_input": "2023-03-12T10:20:28.493553Z",
     "iopub.status.busy": "2023-03-12T10:20:28.492927Z",
     "iopub.status.idle": "2023-03-12T10:20:28.537831Z",
     "shell.execute_reply": "2023-03-12T10:20:28.536899Z",
     "shell.execute_reply.started": "2023-03-12T10:20:28.493516Z"
    },
    "trusted": true
   },
   "outputs": [],
   "source": [
    "from IPython.display import display, Image\n",
    "\n",
    "display(Image(filename='./runs/detect/train/results.png'))\n",
    "display(Image(filename='./runs/detect/train/confusion_matrix.png'))\n",
    "display(Image(filename='./runs/detect/train/labels.jpg'))\n",
    "display(Image(filename='./runs/detect/train/labels_correlogram.jpg'))"
   ]
  }
 ],
 "metadata": {
  "kernelspec": {
   "display_name": ".venv",
   "language": "python",
   "name": "python3"
  },
  "language_info": {
   "codemirror_mode": {
    "name": "ipython",
    "version": 3
   },
   "file_extension": ".py",
   "mimetype": "text/x-python",
   "name": "python",
   "nbconvert_exporter": "python",
   "pygments_lexer": "ipython3",
   "version": "3.11.6"
  }
 },
 "nbformat": 4,
 "nbformat_minor": 4
}
