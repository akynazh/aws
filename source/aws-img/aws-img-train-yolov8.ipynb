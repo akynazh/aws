{
 "cells": [
  {
   "cell_type": "code",
   "execution_count": null,
   "metadata": {
    "_cell_guid": "b1076dfc-b9ad-4769-8c92-a6c4dae69d19",
    "_uuid": "8f2839f25d086af736a60e9eeb907d3b93b6e0e5",
    "collapsed": true,
    "execution": {
     "iopub.execute_input": "2025-04-01T09:53:58.392614Z",
     "iopub.status.busy": "2025-04-01T09:53:58.392292Z",
     "iopub.status.idle": "2025-04-01T09:56:48.475929Z",
     "shell.execute_reply": "2025-04-01T09:56:48.474763Z",
     "shell.execute_reply.started": "2025-04-01T09:53:58.392591Z"
    },
    "jupyter": {
     "outputs_hidden": true
    },
    "trusted": true
   },
   "outputs": [],
   "source": [
    "!pip3 install --upgrade torch torchvision torchaudio --extra-index-url https://download.pytorch.org/whl/cu117\n",
    "!pip3 install roboflow\n",
    "!pip3 install --upgrade ultralytics"
   ]
  },
  {
   "cell_type": "code",
   "execution_count": null,
   "metadata": {
    "execution": {
     "iopub.execute_input": "2025-04-01T09:51:44.374752Z",
     "iopub.status.busy": "2025-04-01T09:51:44.374531Z",
     "iopub.status.idle": "2025-04-01T09:51:47.532329Z",
     "shell.execute_reply": "2025-04-01T09:51:47.531395Z",
     "shell.execute_reply.started": "2025-04-01T09:51:44.374718Z"
    },
    "trusted": true
   },
   "outputs": [],
   "source": [
    "import torch\n",
    "torch.cuda.is_available()"
   ]
  },
  {
   "cell_type": "code",
   "execution_count": null,
   "metadata": {
    "collapsed": true,
    "execution": {
     "iopub.execute_input": "2025-04-01T09:58:40.155137Z",
     "iopub.status.busy": "2025-04-01T09:58:40.154812Z",
     "iopub.status.idle": "2025-04-01T09:58:50.197731Z",
     "shell.execute_reply": "2025-04-01T09:58:50.196250Z",
     "shell.execute_reply.started": "2025-04-01T09:58:40.155109Z"
    },
    "jupyter": {
     "outputs_hidden": true
    },
    "trusted": true
   },
   "outputs": [],
   "source": [
    "from kaggle_secrets import UserSecretsClient\n",
    "user_secrets = UserSecretsClient()\n",
    "ROBOFLOW_API_KEY = user_secrets.get_secret(\"ROBOFLOW_API\")\n",
    "\n",
    "from roboflow import Roboflow\n",
    "rf = Roboflow(api_key=ROBOFLOW_API_KEY)\n",
    "project = rf.workspace(\"zhihang\").project(\"fruits-and-vegetables-knetf-9dd0s\")\n",
    "dataset = project.version(1).download(\"yolov8\")"
   ]
  },
  {
   "cell_type": "code",
   "execution_count": null,
   "metadata": {
    "execution": {
     "iopub.execute_input": "2025-04-01T10:05:42.724475Z",
     "iopub.status.busy": "2025-04-01T10:05:42.724144Z",
     "iopub.status.idle": "2025-04-01T10:05:42.863593Z",
     "shell.execute_reply": "2025-04-01T10:05:42.862691Z",
     "shell.execute_reply.started": "2025-04-01T10:05:42.724450Z"
    },
    "trusted": true
   },
   "outputs": [],
   "source": [
    "!cat /kaggle/working/Fruits-and-Vegetables-1/data.yaml"
   ]
  },
  {
   "cell_type": "code",
   "execution_count": null,
   "metadata": {
    "execution": {
     "iopub.execute_input": "2025-04-01T10:06:10.395005Z",
     "iopub.status.busy": "2025-04-01T10:06:10.394679Z"
    },
    "trusted": true
   },
   "outputs": [],
   "source": [
    "!yolo task=detect mode=train epochs=50 data=/kaggle/working/Fruits-and-Vegetables-1/data.yaml model=yolov8m.pt patience=30"
   ]
  },
  {
   "cell_type": "code",
   "execution_count": null,
   "metadata": {
    "trusted": true
   },
   "outputs": [],
   "source": [
    "!ls /kaggle/working/runs/detect/train"
   ]
  },
  {
   "cell_type": "code",
   "execution_count": null,
   "metadata": {
    "trusted": true
   },
   "outputs": [],
   "source": [
    "from IPython.display import display, Image\n",
    "\n",
    "display(Image(filename='/kaggle/working/runs/detect/train/val_batch0_pred.jpg'))"
   ]
  },
  {
   "cell_type": "code",
   "execution_count": null,
   "metadata": {
    "trusted": true
   },
   "outputs": [],
   "source": [
    "!ls /kaggle/working"
   ]
  }
 ],
 "metadata": {
  "kaggle": {
   "accelerator": "gpu",
   "dataSources": [],
   "dockerImageVersionId": 30919,
   "isGpuEnabled": true,
   "isInternetEnabled": true,
   "language": "python",
   "sourceType": "notebook"
  },
  "kernelspec": {
   "display_name": "Python 3",
   "language": "python",
   "name": "python3"
  },
  "language_info": {
   "codemirror_mode": {
    "name": "ipython",
    "version": 3
   },
   "file_extension": ".py",
   "mimetype": "text/x-python",
   "name": "python",
   "nbconvert_exporter": "python",
   "pygments_lexer": "ipython3",
   "version": "3.10.12"
  }
 },
 "nbformat": 4,
 "nbformat_minor": 4
}
